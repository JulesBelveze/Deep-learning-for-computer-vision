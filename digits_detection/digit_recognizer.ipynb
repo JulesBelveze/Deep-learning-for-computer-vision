{
 "cells": [
  {
   "cell_type": "code",
   "execution_count": 1,
   "metadata": {},
   "outputs": [],
   "source": [
    "import numpy as np\n",
    "import os\n",
    "import sys\n",
    "import PIL.Image as Image\n",
    "from tqdm import tqdm_notebook as tqdm\n",
    "\n",
    "import torch\n",
    "import torch.nn as nn\n",
    "import torch.nn.functional as F\n",
    "import torchvision.datasets as datasets\n",
    "from torch.utils.data import DataLoader\n",
    "from torch.utils.data import ConcatDataset\n",
    "import torchvision\n",
    "import torchvision.transforms as transforms\n",
    "\n",
    "import matplotlib.pyplot as plt\n",
    "import matplotlib.patches as patches"
   ]
  },
  {
   "cell_type": "code",
   "execution_count": 2,
   "metadata": {},
   "outputs": [
    {
     "name": "stdout",
     "output_type": "stream",
     "text": [
      "The code will run on GPU.\n"
     ]
    }
   ],
   "source": [
    "if torch.cuda.is_available():\n",
    "    print(\"The code will run on GPU.\")\n",
    "else:\n",
    "    print(\"The code will run on CPU.\")\n",
    "device = torch.device('cuda' if torch.cuda.is_available() else 'cpu')   "
   ]
  },
  {
   "cell_type": "markdown",
   "metadata": {},
   "source": [
    "<h1> Train a convolutional neural network that can classify single digits"
   ]
  },
  {
   "cell_type": "markdown",
   "metadata": {},
   "source": [
    "<li>First training a CNN that can identify digits (if they are present).</li>\n",
    "<li>We use CIFAR10 to train the network on non digit images.</li>\n",
    "<li>The non digit class is represented by 10"
   ]
  },
  {
   "cell_type": "code",
   "execution_count": null,
   "metadata": {
    "scrolled": true
   },
   "outputs": [],
   "source": [
    "batch_size = 64\n",
    "size = 32\n",
    "\n",
    "transformer_svhn = transforms.Compose([\n",
    "    transforms.Grayscale(3),\n",
    "    transforms.RandomRotation(45),\n",
    "    transforms.ToTensor(),\n",
    "    transforms.Normalize([.5,.5,.5], [.5,.5,.5])\n",
    "])\n",
    "\n",
    "transformer_cifar = transforms.Compose([\n",
    "    transforms.Grayscale(3),\n",
    "    transforms.RandomResizedCrop((size,size)),\n",
    "    transforms.RandomHorizontalFlip(),\n",
    "    transforms.ToTensor(),\n",
    "    transforms.Normalize([.5,.5,.5], [.5,.5,.5])\n",
    "])\n",
    "\n",
    "# loading SVHN\n",
    "svhn = datasets.SVHN('./data', download=True, transform=transformer_svhn)\n",
    "svhn_loader = DataLoader(svhn, batch_size=batch_size, shuffle=True, num_workers=3)\n",
    "\n",
    "# loading CIFAR10\n",
    "cifar = datasets.CIFAR10(\"./data\", download=True, transform=transformer_cifar)\n",
    "cifar.targets = [10] * len(cifar.targets) #switching all label to 10, meaning \"no digit\"\n",
    "cifar_loader = DataLoader(cifar, batch_size=batch_size, shuffle=True, num_workers=3)"
   ]
  },
  {
   "cell_type": "code",
   "execution_count": null,
   "metadata": {},
   "outputs": [],
   "source": [
    "print(\"Length CIFAR10: {}\".format(len(cifar_loader.dataset)))\n",
    "print(\"Length SVHN: {}\".format(len(svhn_loader.dataset)))"
   ]
  },
  {
   "cell_type": "code",
   "execution_count": null,
   "metadata": {},
   "outputs": [],
   "source": [
    "# concatenating both dataset in order to create the final set\n",
    "final_set = cifar + svhn\n",
    "\n",
    "train_size = int(0.8 * len(final_set))\n",
    "test_size = len(final_set) - train_size\n",
    "train_dataset, test_dataset = torch.utils.data.random_split(final_set, [train_size, test_size])\n",
    "\n",
    "train_loader = DataLoader(train_dataset, \n",
    "                          batch_size=batch_size)\n",
    "\n",
    "test_loader = DataLoader(test_dataset, \n",
    "                          batch_size=batch_size)"
   ]
  },
  {
   "cell_type": "code",
   "execution_count": null,
   "metadata": {},
   "outputs": [],
   "source": [
    "# computing class weights\n",
    "dic_weights = {i: 0 for i in range(11)}\n",
    "for _, label in train_dataset:\n",
    "    dic_weights[label] += 1\n",
    "    \n",
    "print(dic_weights)\n",
    "\n",
    "sum_dic = sum(dic_weights.values())\n",
    "weights_ = [elt for elt in dic_weights.values()]\n",
    "\n",
    "tensor_weight = torch.tensor(weights_, dtype=torch.float32).to(device)"
   ]
  },
  {
   "cell_type": "code",
   "execution_count": null,
   "metadata": {},
   "outputs": [],
   "source": [
    "# ploting images of the dataset\n",
    "images, labels = next(iter(train_loader))\n",
    "plt.figure(figsize=(20,10))\n",
    "\n",
    "for i in range(21):\n",
    "    plt.subplot(5,7,i+1)\n",
    "    plt.imshow(np.swapaxes(np.swapaxes(images[i].numpy(), 0, 2), 0, 1))\n",
    "    plt.title(range(11)[labels[i].item()])\n",
    "    plt.axis('off')"
   ]
  },
  {
   "cell_type": "code",
   "execution_count": 3,
   "metadata": {},
   "outputs": [],
   "source": [
    "class Network(nn.Module):\n",
    "    def __init__(self):\n",
    "        super(Network, self).__init__()\n",
    "        self.convolutional = nn.Sequential(\n",
    "                nn.Conv2d(3, 8, kernel_size=3, stride=1, padding=1),\n",
    "                nn.BatchNorm2d(8),\n",
    "                nn.ReLU(),\n",
    "                nn.Dropout(),\n",
    "                nn.Conv2d(8, 8, kernel_size=3, stride=1, padding=1),\n",
    "                nn.BatchNorm2d(8),\n",
    "                nn.ReLU(),\n",
    "                nn.MaxPool2d(2),\n",
    "                nn.Conv2d(8, 16, kernel_size=3, stride=1, padding=1),\n",
    "                nn.BatchNorm2d(16),\n",
    "                nn.ReLU(),\n",
    "                nn.Dropout(),\n",
    "                nn.Conv2d(16, 32, kernel_size=3, stride=1, padding=1),\n",
    "                nn.BatchNorm2d(32),\n",
    "                nn.ReLU())\n",
    "\n",
    "        self.fully_connected = nn.Sequential(\n",
    "            nn.Conv2d(32,500, kernel_size=16),\n",
    "            nn.ReLU(),\n",
    "            nn.Dropout(),\n",
    "            nn.Conv2d(500, 500, kernel_size=1),\n",
    "            nn.ReLU(),\n",
    "            nn.Dropout(),\n",
    "            nn.Conv2d(500, 11, kernel_size=1),\n",
    "            nn.ReLU(),\n",
    "            nn.Softmax(dim=1)\n",
    "        )\n",
    "    \n",
    "    def forward(self, x):\n",
    "        x = self.convolutional(x)\n",
    "        #reshape x so it becomes flat, except for the first dimension (which is the minibatch)\n",
    "        x = self.fully_connected(x)\n",
    "        return x"
   ]
  },
  {
   "cell_type": "code",
   "execution_count": null,
   "metadata": {},
   "outputs": [],
   "source": [
    "def train_digit_classifier(model, optimizer, num_epochs=5):\n",
    "    train_acc_all, test_acc_all = [], []\n",
    "    \n",
    "    for epoch in tqdm(range(num_epochs), unit='epoch'):\n",
    "        \n",
    "        train_correct, test_correct = 0, 0\n",
    "        model.train()\n",
    "        for minibatch_no, (data, target) in tqdm(enumerate(train_loader), total=len(train_loader)):\n",
    "            data = data.to(device)\n",
    "            target = target.to(device)\n",
    "            \n",
    "            # set the parameter gradients to zero\n",
    "            optimizer.zero_grad()\n",
    "            \n",
    "            output = model(data).squeeze()\n",
    "            \n",
    "            loss_size = F.nll_loss(torch.log(output), target, weight=tensor_weight)\n",
    "            loss_size.backward()\n",
    "            optimizer.step()\n",
    "            \n",
    "            predicted = output.argmax(1)\n",
    "            train_correct += (target==predicted).sum().item()\n",
    "        \n",
    "        model.eval()\n",
    "        for data, target in test_loader:\n",
    "            data = data.to(device)\n",
    "            target = target.to(device)\n",
    "            \n",
    "            with torch.no_grad(): # desactivating backpropagation\n",
    "                output = model(data).squeeze()\n",
    "            \n",
    "            predicted = output.argmax(1)\n",
    "            test_correct += (target==predicted).sum().item()\n",
    "        \n",
    "        train_acc = train_correct / train_size\n",
    "        test_acc = test_correct / test_size\n",
    "        print(\"Accuracy train: {train:.1f}%\\t test: {test:.1f}%\".format(test=100*test_acc, train=100*train_acc))\n",
    "        \n",
    "        train_acc_all.append(train_acc)\n",
    "        test_acc_all.append(test_acc)\n",
    "    \n",
    "    return train_acc_all, test_acc_all"
   ]
  },
  {
   "cell_type": "code",
   "execution_count": null,
   "metadata": {
    "scrolled": true
   },
   "outputs": [],
   "source": [
    "model = Network()\n",
    "model.to(device)\n",
    "\n",
    "optimizer = torch.optim.SGD(model.parameters(), lr=.1)\n",
    "\n",
    "train_acc = train_digit_classifier(model, optimizer, num_epochs=20)"
   ]
  },
  {
   "cell_type": "code",
   "execution_count": null,
   "metadata": {},
   "outputs": [],
   "source": [
    "torch.save(model.state_dict(), \"digit_classifier_weighted.pth\")"
   ]
  },
  {
   "cell_type": "markdown",
   "metadata": {},
   "source": [
    "<hr>"
   ]
  },
  {
   "cell_type": "markdown",
   "metadata": {},
   "source": [
    "<h1> Implementation of digit detection"
   ]
  },
  {
   "cell_type": "code",
   "execution_count": 5,
   "metadata": {},
   "outputs": [],
   "source": [
    "def get_box_boundaries_around_digits(tensor_image, output):\n",
    "    '''Return the box boundaries of windows that contain images\n",
    "    Note: the axis are reverted like this:\n",
    "                                    ---------> x\n",
    "                                    |\n",
    "                                    |\n",
    "                                    |\n",
    "                                    |\n",
    "                                    V\n",
    "                                    y               '''\n",
    "    _, b, h = tensor_image.squeeze().shape\n",
    "    \n",
    "    scores = output.max(1).values\n",
    "    scores = scores.tolist()[0]\n",
    "    scores = [item for sublists in scores for item in sublists]\n",
    "    \n",
    "    predictions = output.argmax(1)\n",
    "    list_predictions = predictions.tolist()[0]\n",
    "    list_predictions = [item for sublist in list_predictions for item in sublist]\n",
    "    \n",
    "    b_window = 32\n",
    "    h_window = 32\n",
    "    \n",
    "    coordinates, predicts, list_scores = [], [], []\n",
    "    index = 0\n",
    "    for y in range(h_window, h + 2, 2):\n",
    "        for x in range(b_window, b + 2, 2):\n",
    "            prediction = list_predictions[index]\n",
    "            if prediction != 10:\n",
    "                x_left, x_right = x - b_window, x\n",
    "                x_right = x\n",
    "                y_top = y - h_window\n",
    "                y_bottom = y\n",
    "                coordinates.append((x_left, x_right, y_top, y_bottom))\n",
    "                predicts.append(prediction)\n",
    "                list_scores.append(scores[index])\n",
    "            index += 1\n",
    "\n",
    "    return coordinates, predicts, list_scores"
   ]
  },
  {
   "cell_type": "code",
   "execution_count": 6,
   "metadata": {},
   "outputs": [],
   "source": [
    "def rescale_bounding_boxes(bounding_box, inital_size_img: 'tuple', size: 'tuple'):\n",
    "    '''Rescaling a bounding box to the initial image size and ratio'''\n",
    "    x1, x2, y1, y2 = bounding_box\n",
    "    h_init, w_init = inital_size_img\n",
    "    h, w = size\n",
    "    \n",
    "    w_ratio = w / w_init\n",
    "    h_ratio = h / h_init\n",
    "    \n",
    "    x1 = x1 * w_ratio\n",
    "    x2 = x2 * w_ratio\n",
    "    y1 = y1 * h_ratio\n",
    "    y2 = y2 * h_ratio\n",
    "    \n",
    "    return (x1, x2, y1, y2)"
   ]
  },
  {
   "cell_type": "code",
   "execution_count": 7,
   "metadata": {},
   "outputs": [],
   "source": [
    "def iou(coord_box1, coord_box2):\n",
    "    '''Function returning the Jaccard index of two bounding box\n",
    "    Parameters: tuples containing the positions of the box corner'''\n",
    "    x_left1, x_right1, y_top1, y_bottom1 = coord_box1\n",
    "    x_left2, x_right2, y_top2, y_bottom2 = coord_box2\n",
    "    \n",
    "    dx = min(x_right1, x_right2) - max(x_left1, x_left2)\n",
    "    dy = min(y_bottom1, y_bottom2) - max(y_top1, y_top2)\n",
    "\n",
    "    if (dx >= 0) and (dy >= 0):\n",
    "        intersection = dx * dy\n",
    "    else:\n",
    "        intersection = 0\n",
    "      \n",
    "    area1 = (x_right1 - x_left1) * (y_bottom1 - y_top1)\n",
    "    area2 = (x_right2 - x_left2) * (y_bottom2 - y_top2)\n",
    "    union = area1 + area2 - intersection \n",
    "    \n",
    "    return intersection / union"
   ]
  },
  {
   "cell_type": "code",
   "execution_count": 27,
   "metadata": {},
   "outputs": [],
   "source": [
    "def nms(coord, labels, scores, threshold=.5):\n",
    "    '''Implementation of Non-Max suppression'''\n",
    "    coord_nms  = []\n",
    "    labels_nms = []\n",
    "    for i in range(len(coord)):            \n",
    "        discard = False \n",
    "        for j in range(len(coord)):\n",
    "            if (labels[i] == labels[j]) and (j != i):\n",
    "                iou_ = iou(coord[i], coord[j])\n",
    "                if iou_ > threshold:\n",
    "                    if scores[j] > scores[i]:\n",
    "                        discard = True\n",
    "                        \n",
    "        if not discard and scores[i] > .9:\n",
    "            coord_nms.append(coord[i])\n",
    "            labels_nms.append(labels[i])\n",
    "            \n",
    "\n",
    "    return coord_nms, labels_nms"
   ]
  },
  {
   "cell_type": "code",
   "execution_count": 9,
   "metadata": {},
   "outputs": [],
   "source": [
    "class SVHN_(torch.utils.data.Dataset):\n",
    "    def __init__(self, train, transform, data_path='/scratch/SVHN'):\n",
    "        'Initialization'\n",
    "        self.transform = transform\n",
    "        data_path = os.path.join(data_path, 'train' if train else 'test')\n",
    "        list_files = os.listdir(data_path)\n",
    "        self.image_paths = [os.path.join(data_path, file) for file in list_files]\n",
    "        \n",
    "    def __len__(self):\n",
    "        'Returns the total number of samples'\n",
    "        return len(self.image_paths)\n",
    "\n",
    "    def __getitem__(self, idx):\n",
    "        'Generates one sample of data'\n",
    "        image_path = self.image_paths[idx]\n",
    "        image = Image.open(image_path)\n",
    "        X = self.transform(image)\n",
    "        return X"
   ]
  },
  {
   "cell_type": "markdown",
   "metadata": {},
   "source": [
    "<hr>"
   ]
  },
  {
   "cell_type": "markdown",
   "metadata": {},
   "source": [
    "Loading data"
   ]
  },
  {
   "cell_type": "code",
   "execution_count": 49,
   "metadata": {},
   "outputs": [],
   "source": [
    "batch_size = 64\n",
    "size=300\n",
    "height=300\n",
    "width= 300\n",
    "\n",
    "transformer_svhn_test = transforms.Compose([\n",
    "    transforms.Grayscale(3),\n",
    "    transforms.Resize((height, width)),\n",
    "    transforms.CenterCrop((size, size)),\n",
    "    transforms.ToTensor(),\n",
    "    transforms.Normalize([.5,.5,.5], [.5,.5,.5])\n",
    "])\n",
    "\n",
    "SVHN_test = SVHN_(train=False, transform=transformer_svhn_test)\n",
    "SVHN_test_loader = DataLoader(SVHN_test, batch_size=batch_size, shuffle=False, num_workers=3)"
   ]
  },
  {
   "cell_type": "markdown",
   "metadata": {},
   "source": [
    "Loading model"
   ]
  },
  {
   "cell_type": "code",
   "execution_count": 50,
   "metadata": {},
   "outputs": [],
   "source": [
    "torch.cuda.empty_cache() # freeing reusable memory\n",
    "\n",
    "model = Network()\n",
    "model.to(device)\n",
    "model.load_state_dict(torch.load(\"digit_classifier_gray_scale_weighted.pth\"));"
   ]
  },
  {
   "cell_type": "markdown",
   "metadata": {},
   "source": [
    "Feeding the model with one image"
   ]
  },
  {
   "cell_type": "code",
   "execution_count": 51,
   "metadata": {},
   "outputs": [],
   "source": [
    "# loading random image from the test loader and converting it to \n",
    "# a batch to be able to put it in the mode\n",
    "image = next(iter(SVHN_test_loader))[15]\n",
    "image_tensor = image.unsqueeze(0)\n",
    "image_tensor = image_tensor.to(device)\n",
    "\n",
    "model.eval()\n",
    "output = model(image_tensor)"
   ]
  },
  {
   "cell_type": "code",
   "execution_count": 53,
   "metadata": {},
   "outputs": [],
   "source": [
    "# applying IoU with a suitable threshold to find a digit correct.\n",
    "coord_, labels_, scores_ = get_box_boundaries_around_digits(image_tensor, output)\n",
    "\n",
    "final_coord, final_label = nms(coord_, labels_, scores_)"
   ]
  },
  {
   "cell_type": "code",
   "execution_count": 54,
   "metadata": {},
   "outputs": [
    {
     "name": "stderr",
     "output_type": "stream",
     "text": [
      "Clipping input data to the valid range for imshow with RGB data ([0..1] for floats or [0..255] for integers).\n",
      "Clipping input data to the valid range for imshow with RGB data ([0..1] for floats or [0..255] for integers).\n"
     ]
    },
    {
     "data": {
      "image/png": "[encoded data removed]",
      "text/plain": [
       "<Figure size 720x360 with 2 Axes>"
      ]
     },
     "metadata": {
      "needs_background": "light"
     },
     "output_type": "display_data"
    }
   ],
   "source": [
    "color_rectangle = {\n",
    "    0: \"yellow\", 1: \"green\", 2: \"blue\", 3: \"pink\", 4: \"red\",\n",
    "    5: \"white\", 6: \"cyan\", 7: \"purple\", 8: \"orange\", 9: \"grey\"\n",
    "}\n",
    "\n",
    "f = plt.figure(figsize=(10,5))\n",
    "plt.tight_layout()\n",
    "\n",
    "ax = f.add_subplot(121)\n",
    "ax.imshow(np.swapaxes(np.swapaxes(image.numpy(), 0, 2), 0, 1))\n",
    "ax.axis(\"off\")\n",
    "\n",
    "ax2 = f.add_subplot(122)\n",
    "ax2.imshow(np.swapaxes(np.swapaxes(image.numpy(), 0, 2), 0, 1))\n",
    "ax2.axis(\"off\")\n",
    "\n",
    "for (coord, label) in zip(final_coord, final_label):\n",
    "    x_left, x_right, y_top, y_bottom = coord\n",
    "    rect = patches.Rectangle((x_left,y_top),32,32,linewidth=1,edgecolor=color_rectangle[label],facecolor='none')\n",
    "    ax2.add_patch(rect)\n",
    "    \n",
    "# plt.savefig(\"predictions_digit_gray_unnormalized.png\")"
   ]
  },
  {
   "cell_type": "code",
   "execution_count": null,
   "metadata": {},
   "outputs": [],
   "source": [
    "fig, ax = plt.subplots(1)\n",
    "\n",
    "ax.imshow(np.swapaxes(np.swapaxes(image.numpy(), 0, 2), 0, 1))\n",
    "ax.axis(\"off\")\n",
    "\n",
    "for elt in coord_:\n",
    "    x_left, x_right, y_top, y_bottom = elt\n",
    "    rect = patches.Rectangle((x_left,y_top),32,32,linewidth=1,edgecolor='r',facecolor='none')\n",
    "    ax.add_patch(rect)\n",
    "    \n",
    "# plt.savefig(\"bounding_boxes_gray_normalized.png\")"
   ]
  },
  {
   "cell_type": "code",
   "execution_count": null,
   "metadata": {},
   "outputs": [],
   "source": [
    "def plot_detected_digits(number_images=50, shuffle=False):\n",
    "\n",
    "    images = next(iter(SVHN_test_loader))\n",
    "\n",
    "    for image in images:\n",
    "        image_tensor = image.unsqueeze(0)\n",
    "        image_tensor = image_tensor.to(device)\n",
    "\n",
    "        model.eval()\n",
    "        output = model(image_tensor)\n",
    "\n",
    "        # applying IoU with a suitable threshold to find a digit correct.\n",
    "        coord_, labels_ = get_box_boundaries_around_digits(image_tensor, output.argmax(1))\n",
    "\n",
    "        scores_ = output.max(1).values\n",
    "        scores_ = scores_.tolist()[0]\n",
    "        scores_ = [item for sublists in scores_ for item in sublists]\n",
    "\n",
    "        final_coord = nms(coord_, labels_, scores_)\n",
    "\n",
    "        fig, ax = plt.subplots(1)\n",
    "\n",
    "        ax.imshow(np.swapaxes(np.swapaxes(image.numpy(), 0, 2), 0, 1))\n",
    "        ax.axis(\"off\")\n",
    "\n",
    "        for coord, label in final_coord:\n",
    "            x_left, x_right, y_top, y_bottom = coord\n",
    "            rect = patches.Rectangle((x_left,y_top),32,32,linewidth=1,edgecolor=color_rectangle[label],facecolor='none')\n",
    "            ax.add_patch(rect)\n",
    "\n",
    "        plt.show()"
   ]
  },
  {
   "cell_type": "markdown",
   "metadata": {},
   "source": [
    "<hr>"
   ]
  },
  {
   "cell_type": "markdown",
   "metadata": {},
   "source": [
    "<h2> Add multi-scale images"
   ]
  },
  {
   "cell_type": "code",
   "execution_count": 13,
   "metadata": {},
   "outputs": [],
   "source": [
    "def rescale_image(image, sizes=[(200,200), (250,200), (200,250), (300, 250), (250, 300), (300, 300), (300, 200), (200, 300)], max_size=300):\n",
    "    '''Function returning a list of resized images\n",
    "    Parameters:\n",
    "    image: Tensor\n",
    "    sizes: list of tuples\n",
    "    '''\n",
    "    _, h_init, w_init = image.shape\n",
    "    list_images = []\n",
    "    \n",
    "    img_PIL = transforms.ToPILImage()(image)\n",
    "    for (h, w) in sizes:\n",
    "        img = torchvision.transforms.Resize([h,w])(img_PIL)\n",
    "        pad_h, pad_w = int((max_size - h) / 2), int((max_size - w) / 2)\n",
    "        \n",
    "        img = torchvision.transforms.Pad((pad_w, pad_h))(img)\n",
    "        img = torchvision.transforms.ToTensor()(img)\n",
    "        \n",
    "        list_images.append(img)\n",
    "        \n",
    "    tensor_images = torch.stack(list_images)\n",
    "    return tensor_images, (h_init, w_init)"
   ]
  },
  {
   "cell_type": "code",
   "execution_count": 20,
   "metadata": {},
   "outputs": [],
   "source": [
    "def get_box_boundaries_around_digits_bis(tensor_image, output):\n",
    "    '''Return the box boundaries of windows that contain images\n",
    "    Note: the axis are reverted like this:\n",
    "                                    ---------> x\n",
    "                                    |\n",
    "                                    |\n",
    "                                    |\n",
    "                                    |\n",
    "                                    V\n",
    "                                    y               '''\n",
    "    _, b, h = tensor_image.squeeze().shape\n",
    "    \n",
    "    scores = output.max(0).values\n",
    "    scores = scores.tolist()\n",
    "    scores = [item for sublists in scores for item in sublists]\n",
    "    \n",
    "    list_predictions = output.argmax(0)\n",
    "    list_predictions = list_predictions.tolist()\n",
    "    list_predictions = [item for sublist in list_predictions for item in sublist]\n",
    "    \n",
    "    b_window = 32\n",
    "    h_window = 32\n",
    "    \n",
    "    coordinates, predicts, list_scores = [], [], []\n",
    "    index = 0\n",
    "    for y in range(h_window, h + 2, 2):\n",
    "        for x in range(b_window, b + 2, 2):\n",
    "            prediction = list_predictions[index]\n",
    "            if prediction != 10:\n",
    "                x_left, x_right = x - b_window, x\n",
    "                x_right = x\n",
    "                y_top = y - h_window\n",
    "                y_bottom = y\n",
    "                coordinates.append((x_left, x_right, y_top, y_bottom))\n",
    "                predicts.append(prediction)\n",
    "                list_scores.append(scores[index])\n",
    "            index += 1\n",
    "\n",
    "    return coordinates, predicts, list_scores"
   ]
  },
  {
   "cell_type": "code",
   "execution_count": 55,
   "metadata": {},
   "outputs": [],
   "source": [
    "# list of sizes\n",
    "sizes = [(200,200), (250,200), (200,250), (300,250), \n",
    "         (250,300), (300,300), (300,200), (200,300),\n",
    "         (150,150), (150,200), (200,150), (100,100),\n",
    "         (150,300), (300,150)]\n",
    "\n",
    "# loading image and \"creating\" the resized ones\n",
    "image = next(iter(SVHN_test_loader))[11]\n",
    "images, init_size = rescale_image(image, sizes)\n",
    "image_tensor = images.to(device) # shape len(size) * 3 * size * size\n",
    "\n",
    "# evaluating model those images\n",
    "model.eval()\n",
    "output = model(image_tensor)\n",
    "\n",
    "coord_boxes, label_boxes, score_boxes = [], [], []\n",
    "# looping through all scaled images\n",
    "for i, (img_tensor, size) in enumerate(zip(output, sizes)):\n",
    "    output_image = output[i]\n",
    "    coords, labels, scores = get_box_boundaries_around_digits_bis(img_tensor, output_image)\n",
    "    for (coord, label, score) in zip(coords, labels, scores):\n",
    "        rescaled_coord = rescale_bounding_boxes(coord, init_size, size)\n",
    "        coord_boxes.append(rescaled_coord)\n",
    "        label_boxes.append(label)\n",
    "        score_boxes.append(score)\n",
    "        \n",
    "# removing the unwanted boxescd D\n",
    "final_coord, final_label = nms(coord_boxes, label_boxes, score_boxes)"
   ]
  },
  {
   "cell_type": "code",
   "execution_count": 48,
   "metadata": {},
   "outputs": [
    {
     "name": "stderr",
     "output_type": "stream",
     "text": [
      "Clipping input data to the valid range for imshow with RGB data ([0..1] for floats or [0..255] for integers).\n"
     ]
    },
    {
     "data": {
      "image/png": "[encoded data removed]",
      "text/plain": [
       "<Figure size 432x288 with 1 Axes>"
      ]
     },
     "metadata": {
      "needs_background": "light"
     },
     "output_type": "display_data"
    }
   ],
   "source": [
    "color_rectangle = {\n",
    "    0: \"yellow\", 1: \"green\", 2: \"blue\", 3: \"pink\", 4: \"red\",\n",
    "    5: \"white\", 6: \"cyan\", 7: \"purple\", 8: \"orange\", 9: \"grey\"\n",
    "}\n",
    "\n",
    "fig, ax = plt.subplots(1)\n",
    "\n",
    "ax.imshow(np.swapaxes(np.swapaxes(image.numpy(), 0, 2), 0, 1))\n",
    "ax.axis(\"off\")\n",
    "\n",
    "for (coord, label) in zip(final_coord, final_label):\n",
    "    x_left, x_right, y_top, y_bottom = coord\n",
    "    box_w = x_right - x_left\n",
    "    box_h = y_bottom - y_top\n",
    "    rect = patches.Rectangle((x_left,y_top),box_w,box_h,linewidth=1,edgecolor=color_rectangle[label],facecolor='none')\n",
    "    ax.add_patch(rect)"
   ]
  },
  {
   "cell_type": "code",
   "execution_count": null,
   "metadata": {},
   "outputs": [],
   "source": []
  },
  {
   "cell_type": "code",
   "execution_count": null,
   "metadata": {},
   "outputs": [],
   "source": []
  }
 ],
 "metadata": {
  "kernelspec": {
   "display_name": "Python 3",
   "language": "python",
   "name": "python3"
  },
  "language_info": {
   "codemirror_mode": {
    "name": "ipython",
    "version": 3
   },
   "file_extension": ".py",
   "mimetype": "text/x-python",
   "name": "python",
   "nbconvert_exporter": "python",
   "pygments_lexer": "ipython3",
   "version": "3.7.3"
  }
 },
 "nbformat": 4,
 "nbformat_minor": 2
}
